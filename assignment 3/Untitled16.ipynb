{
 "cells": [
  {
   "cell_type": "code",
   "execution_count": 36,
   "id": "561fb4af",
   "metadata": {},
   "outputs": [
    {
     "name": "stdout",
     "output_type": "stream",
     "text": [
      "2021-10-24-16:21:12\n"
     ]
    }
   ],
   "source": [
    "#QUESTON 3\n",
    "from datetime import datetime\n",
    "now = datetime.now()\n",
    "print(now.strftime(\"%Y-%m-%d-%H:%M:%S\"))\n"
   ]
  },
  {
   "cell_type": "code",
   "execution_count": 37,
   "id": "5c67de64",
   "metadata": {},
   "outputs": [
    {
     "name": "stdout",
     "output_type": "stream",
     "text": [
      "3.8.8\n"
     ]
    }
   ],
   "source": [
    "#QUESTION 2\n",
    "from platform import python_version\n",
    "print(python_version())\n"
   ]
  },
  {
   "cell_type": "code",
   "execution_count": 13,
   "id": "8f97b49a",
   "metadata": {},
   "outputs": [
    {
     "name": "stdout",
     "output_type": "stream",
     "text": [
      "enter the value of r3\n"
     ]
    },
    {
     "ename": "NameError",
     "evalue": "name 'pi' is not defined",
     "output_type": "error",
     "traceback": [
      "\u001b[1;31m---------------------------------------------------------------------------\u001b[0m",
      "\u001b[1;31mNameError\u001b[0m                                 Traceback (most recent call last)",
      "\u001b[1;32m<ipython-input-13-a6481899d219>\u001b[0m in \u001b[0;36m<module>\u001b[1;34m\u001b[0m\n\u001b[0;32m      1\u001b[0m \u001b[0mr\u001b[0m \u001b[1;33m=\u001b[0m \u001b[0mint\u001b[0m\u001b[1;33m(\u001b[0m\u001b[0minput\u001b[0m\u001b[1;33m(\u001b[0m\u001b[1;34m\"enter the value of r\"\u001b[0m\u001b[1;33m)\u001b[0m\u001b[1;33m)\u001b[0m\u001b[1;33m;\u001b[0m\u001b[1;33m\u001b[0m\u001b[1;33m\u001b[0m\u001b[0m\n\u001b[1;32m----> 2\u001b[1;33m \u001b[0ma\u001b[0m \u001b[1;33m=\u001b[0m \u001b[0mpi\u001b[0m \u001b[1;33m*\u001b[0m \u001b[0mr\u001b[0m\u001b[1;33m**\u001b[0m\u001b[1;36m2\u001b[0m\u001b[1;33m;\u001b[0m\u001b[1;33m\u001b[0m\u001b[1;33m\u001b[0m\u001b[0m\n\u001b[0m\u001b[0;32m      3\u001b[0m \u001b[0mprint\u001b[0m\u001b[1;33m(\u001b[0m\u001b[0ma\u001b[0m\u001b[1;33m)\u001b[0m\u001b[1;33m\u001b[0m\u001b[1;33m\u001b[0m\u001b[0m\n",
      "\u001b[1;31mNameError\u001b[0m: name 'pi' is not defined"
     ]
    }
   ],
   "source": [
    "r = int(input(\"enter the value of r\"));\n",
    "a =  * r**2;\n",
    "print(a)"
   ]
  },
  {
   "cell_type": "code",
   "execution_count": 12,
   "id": "66065ca7",
   "metadata": {},
   "outputs": [
    {
     "name": "stdout",
     "output_type": "stream",
     "text": [
      "  enter the user_name:rubab\n",
      "enter the last_name:javed\n",
      "javed rubab\n"
     ]
    }
   ],
   "source": [
    "#QUESTION 5\n",
    "user_name = input(\"  enter the user_name:\");\n",
    "last_name = input(\"enter the last_name:\");\n",
    "print(last_name+\" \"+user_name)"
   ]
  },
  {
   "cell_type": "code",
   "execution_count": 14,
   "id": "672c8ff0",
   "metadata": {},
   "outputs": [
    {
     "name": "stdout",
     "output_type": "stream",
     "text": [
      "enter the value of a3\n",
      "enter the value of b4\n",
      "7\n"
     ]
    }
   ],
   "source": [
    "#QUESTION 6\n",
    "a = int(input(\"enter the value of a\"));\n",
    "b = int(input(\"enter the value of b\"));\n",
    "print(a+b)"
   ]
  },
  {
   "cell_type": "code",
   "execution_count": 15,
   "id": "7187d2c4",
   "metadata": {},
   "outputs": [
    {
     "name": "stdout",
     "output_type": "stream",
     "text": [
      "enter the value of eng50\n",
      "enter the value of urdu60\n",
      "enter the value of isl75\n",
      "enter the value of maths90\n",
      "enter the value of science79\n",
      "A\n"
     ]
    }
   ],
   "source": [
    "#QUESTION 7\n",
    "eng =  int(input(\"enter the value of eng\"));\n",
    "urdu =  int(input(\"enter the value of urdu\"));\n",
    "isl =  int(input(\"enter the value of isl\"));\n",
    "maths =  int(input(\"enter the value of maths\"));\n",
    "science =  int(input(\"enter the value of science\"));\n",
    "total = 500;\n",
    "percent = (eng + isl + urdu + maths + science) / total *100;\n",
    "if percent < 100 and percent >= 80:\n",
    "    print(\"A+\");\n",
    "elif percent < 80 and percent >= 70:\n",
    "    print(\"A\");\n",
    "elif percent < 70 and percent >= 60:\n",
    "    print(\"B\");\n",
    "elif percent < 60 and percent >= 50:\n",
    "    print(\"C\");\n",
    "elif percent < 50 and percent >= 40:\n",
    "    print(\"D\");\n",
    "elif percent < 40 and percent >= 33:\n",
    "    print(\"E\");\n",
    "elif percent < 0 and percent > 100:\n",
    "    print(\"you didn't write correct percent\");\n",
    "else:\n",
    "    print(\"Fail\")"
   ]
  },
  {
   "cell_type": "code",
   "execution_count": 23,
   "id": "53a701d2",
   "metadata": {},
   "outputs": [
    {
     "name": "stdout",
     "output_type": "stream",
     "text": [
      "enter the value of num67\n",
      "odd\n"
     ]
    }
   ],
   "source": [
    "#QUESTION 8\n",
    "num =int(input(\"enter the value of num\"));\n",
    "if num%2==0:\n",
    "    print(\"even\")\n",
    "else:\n",
    "    print(\"odd\")\n",
    "          \n",
    "          "
   ]
  },
  {
   "cell_type": "code",
   "execution_count": 22,
   "id": "51647005",
   "metadata": {},
   "outputs": [
    {
     "name": "stdout",
     "output_type": "stream",
     "text": [
      "number of items in the list= 4\n"
     ]
    }
   ],
   "source": [
    "#QUESTION 9\n",
    "list = [\"Sam\" , \"Kate\" ,\"Daniel\" , \"Thomas\"];\n",
    "print(\"number of items in the list=\",\n",
    "len(list))"
   ]
  },
  {
   "cell_type": "code",
   "execution_count": 25,
   "id": "647e4441",
   "metadata": {},
   "outputs": [
    {
     "name": "stdout",
     "output_type": "stream",
     "text": [
      "sum of the elements in the list= 20\n"
     ]
    }
   ],
   "source": [
    "#QUESTION 10\n",
    "list =  [ 2, 4 , 6 , 8]\n",
    "print(\"sum of the elements in the list=\",\n",
    "sum(list))"
   ]
  },
  {
   "cell_type": "code",
   "execution_count": 26,
   "id": "7edc7775",
   "metadata": {},
   "outputs": [
    {
     "name": "stdout",
     "output_type": "stream",
     "text": [
      "largest element in the list = 76\n"
     ]
    }
   ],
   "source": [
    "#QUESTION 11\n",
    "list = [10 , 30 , 50 , 76 ];\n",
    "print(\"largest element in the list =\",max(list))"
   ]
  },
  {
   "cell_type": "code",
   "execution_count": 30,
   "id": "32947e88",
   "metadata": {},
   "outputs": [
    {
     "name": "stdout",
     "output_type": "stream",
     "text": [
      "1\n",
      "1\n",
      "2\n",
      "3\n"
     ]
    }
   ],
   "source": [
    "#QUESTION 12\n",
    "A = [1 , 1 , 2 , 3 , 5 , 8 , 13 , 21 , 34 , 55 , 89];\n",
    "for i in A:\n",
    "    if i  < 5:\n",
    "        print(i)"
   ]
  },
  {
   "cell_type": "code",
   "execution_count": 34,
   "id": "eb3ccc72",
   "metadata": {},
   "outputs": [
    {
     "name": "stdout",
     "output_type": "stream",
     "text": [
      "Twinkle twinkle little star,\n",
      "        How I wonder where do you are\n",
      "               Up above the world so high!\n",
      "              Like a diamond in the sky.\n",
      "Twinkle twinkle little star,\n",
      "         How Iwonder where do you are\n"
     ]
    }
   ],
   "source": [
    "#QUESTION 1\n",
    "A = \"Twinkle twinkle little star,\";\n",
    "print(A)\n",
    "B = \"        How I wonder where do you are\";\n",
    "print(B)\n",
    "C =\"               Up above the world so high!\";\n",
    "print(C)\n",
    "D = \"              Like a diamond in the sky.\";\n",
    "print(D)\n",
    "E = \"Twinkle twinkle little star,\";\n",
    "print(E)\n",
    "F = \"         How Iwonder where do you are\";\n",
    "print(F)"
   ]
  },
  {
   "cell_type": "code",
   "execution_count": null,
   "id": "447b93cc",
   "metadata": {},
   "outputs": [],
   "source": []
  }
 ],
 "metadata": {
  "kernelspec": {
   "display_name": "Python 3",
   "language": "python",
   "name": "python3"
  },
  "language_info": {
   "codemirror_mode": {
    "name": "ipython",
    "version": 3
   },
   "file_extension": ".py",
   "mimetype": "text/x-python",
   "name": "python",
   "nbconvert_exporter": "python",
   "pygments_lexer": "ipython3",
   "version": "3.8.8"
  }
 },
 "nbformat": 4,
 "nbformat_minor": 5
}
